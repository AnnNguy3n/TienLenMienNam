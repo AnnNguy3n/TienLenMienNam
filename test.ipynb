{
 "cells": [
  {
   "cell_type": "code",
   "execution_count": 4,
   "metadata": {},
   "outputs": [
    {
     "data": {
      "text/plain": [
       "[1, 2, 4, 5, 6]"
      ]
     },
     "execution_count": 4,
     "metadata": {},
     "output_type": "execute_result"
    }
   ],
   "source": [
    "action = str(1)\n",
    "s_n = []\n",
    "for s in data:\n",
    "    for a in data[s]:\n",
    "        if a == action:\n",
    "            print(s, a, data[s][a], end = '   ')\n",
    "            random_weight = random.choices(list(data[s][a].keys()), weights = data[s][a].values(), k=1)[0]\n",
    "            print(random_weight)\n",
    "            s_n.append(random_weight)\n",
    "print(s_n)\n",
    "print(len(s_n))"
   ]
  }
 ],
 "metadata": {
  "interpreter": {
   "hash": "31671a60cee805c34c73116577b485118ff3a75c458d3004d49632c19702ac60"
  },
  "kernelspec": {
   "display_name": "Python 3.10.0 64-bit",
   "language": "python",
   "name": "python3"
  },
  "language_info": {
   "codemirror_mode": {
    "name": "ipython",
    "version": 3
   },
   "file_extension": ".py",
   "mimetype": "text/x-python",
   "name": "python",
   "nbconvert_exporter": "python",
   "pygments_lexer": "ipython3",
   "version": "3.10.0"
  },
  "orig_nbformat": 4
 },
 "nbformat": 4,
 "nbformat_minor": 2
}
